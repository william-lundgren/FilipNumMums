{
 "cells": [
  {
   "cell_type": "markdown",
   "metadata": {},
   "source": [
    "## Project 3: Numerical Methods for Differential Equations"
   ]
  },
  {
   "cell_type": "markdown",
   "metadata": {},
   "source": []
  },
  {
   "cell_type": "code",
   "execution_count": null,
   "metadata": {
    "vscode": {
     "languageId": "plaintext"
    }
   },
   "outputs": [],
   "source": [
    "import numpy as np\n",
    "import matplotlib.pyplot as plt\n",
    "from scipy.sparse import csr_matrix\n",
    "from scipy.sparse import diags\n",
    "from scipy.sparse.linalg import spsolve\n",
    "from scipy.sparse.linalg import eigs"
   ]
  },
  {
   "cell_type": "code",
   "execution_count": null,
   "metadata": {},
   "outputs": [],
   "source": [
    "def toeplitz_like(dim):\n",
    "    return csr_matrix(diags([1, -2, 1], [-1, 0, 1], shape=(dim, dim)))\n",
    "\n",
    "def twopBVP(fvec, alpha, beta, L, N):\n",
    "\n",
    "    dx = L/(N+1)\n",
    "    toeplitz = toeplitz_like(len(fvec))/(dx*dx)\n",
    "\n",
    "    fvec[0]  = fvec[0] -  alpha/(dx*dx)\n",
    "    fvec[-1] = fvec[-1] - beta /(dx*dx)\n",
    "\n",
    "    return spsolve(toeplitz, fvec)\n",
    "\n",
    "def twopBVP_withSteplength(fvec, alpha, beta, L, N):\n",
    "\n",
    "    dx = L/(N+1)\n",
    "    toeplitz = toeplitz_like(len(fvec))/(dx*dx)\n",
    "\n",
    "    fvec[0]  = fvec[0]  -  alpha/(dx*dx)\n",
    "    fvec[-1] = fvec[-1] - beta/(dx*dx)\n",
    "\n",
    "    return spsolve(toeplitz, fvec), dx"
   ]
  }
 ],
 "metadata": {
  "language_info": {
   "name": "python"
  }
 },
 "nbformat": 4,
 "nbformat_minor": 2
}
