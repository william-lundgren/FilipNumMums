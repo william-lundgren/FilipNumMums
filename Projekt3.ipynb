{
 "cells": [
  {
   "cell_type": "markdown",
   "metadata": {},
   "source": [
    "## Project 3: Numerical Methods for Differential Equations"
   ]
  },
  {
   "cell_type": "markdown",
   "metadata": {},
   "source": [
    "## Task 1"
   ]
  },
  {
   "cell_type": "code",
   "execution_count": null,
   "metadata": {},
   "outputs": [],
   "source": [
    "import numpy as np\n",
    "import pandas as pd\n",
    "import matplotlib.pyplot as plt\n",
    "from scipy.sparse import csr_matrix, diags, identity\n",
    "from scipy.linalg import toeplitz, norm\n",
    "from scipy.sparse.linalg import spsolve, eigs\n",
    "from mpl_toolkits.mplot3d import axes3d"
   ]
  },
  {
   "cell_type": "markdown",
   "metadata": {},
   "source": [
    "## Part 1: The Diffusion Equation\n",
    "The diffusion problem handled in this project is stated as follows:\n",
    "\n",
    "\\begin{equation*}\n",
    "    \\begin{cases}\n",
    "        u_t=u_{xx}\\\\\n",
    "        u(t,0)=u(t,1)=0\\\\\n",
    "        u(0,x)=g(x)\n",
    "    \\end{cases}\n",
    "\\end{equation*}\n",
    "\n",
    "To visualize the CFL condition that follows an explicit solving method of this system is done by using a central difference scheme for the spatial coordinate $x$ i.e.\n",
    "\n",
    "\\begin{equation*}\n",
    "    u_{n}''=\\frac{u_{n+1}-2u_n+u_{n-1}}{\\Delta x^2}\n",
    "\\end{equation*}\n",
    "\n",
    "Where $\\Delta x$ is the steplength. For the temporal coordinate, the explicit euler method is used yielding:\n",
    "\n",
    "\\begin{equation*}\n",
    "    v_{n+1}'(t)=(I+hA)y_n\n",
    "\\end{equation*}\n",
    "\n",
    "Where $I$ is the identity matrix and $A$ is the matrix for expressing the right hand side, i.e. the $T_{\\Delta x}$ operator matrix for central symmetric approximation of $\\frac{\\partial^2}{\\partial x^2}$. The steps are implemented below."
   ]
  },
  {
   "cell_type": "code",
   "execution_count": null,
   "metadata": {},
   "outputs": [],
   "source": [
    "def toeplitz_like(dim):\n",
    "    return csr_matrix((diags([1, -2, 1], [-1, 0, 1], shape=(dim, dim))) * (dim + 1)**2)\n",
    "\n",
    "def euler_step(A: np.array, y_n: np.array, h: float, alpha, beta):\n",
    "    return np.concatenate(([alpha], y_n + h * A @ y_n.T, [beta]))"
   ]
  },
  {
   "cell_type": "markdown",
   "metadata": {},
   "source": [
    "## Task 1.1\n",
    "\n",
    "Given a function $g_0$, spatial and temporal steps $N,M$, a final temporal point $t_{end}$ and boundary conditions $y(t,0)=\\alpha, \\quad y(t,1)=\\beta$; the functions below, yields a second order approximation of the solution to the system and enables visualisation of the solution by plotting a surface plot."
   ]
  },
  {
   "cell_type": "code",
   "execution_count": null,
   "metadata": {},
   "outputs": [],
   "source": [
    "def euler_solve(g_0, N, M, t_end, alpha, beta):\n",
    "    xx = np.linspace(0, 1, N+2)\n",
    "    tt = np.linspace(0, t_end, M+1)\n",
    "    Y = np.zeros((M+1, N+2))\n",
    "    Y[0,:] = g_0(xx)\n",
    "    toep = toeplitz_like(N)\n",
    "    for i in range(M):\n",
    "        Y[i+1,:] = euler_step(toep, Y[i,:][1:-1], t_end/M, alpha, beta)\n",
    "    return Y, tt, xx"
   ]
  },
  {
   "cell_type": "code",
   "execution_count": null,
   "metadata": {},
   "outputs": [],
   "source": [
    "def plot3d(Y, Xgrid, tgrid):\n",
    "     T, X = np.meshgrid(np.transpose(tgrid), Xgrid)\n",
    "\n",
    "     fig = plt.figure(figsize=(10, 10))\n",
    "     ax = fig.add_subplot(111, projection='3d')\n",
    "     ax.plot_surface(T, X, np.transpose(Y))\n",
    "\n",
    "     ax.set_xlabel('t')\n",
    "     ax.set_ylabel('x')\n",
    "     ax.set_title('Approximation of Solutions to the Diffusion Equation \\n with initial value '+\n",
    "                                    r'$u(0,x)=x(1-x)^2$')\n",
    "     \n",
    "     plt.show()"
   ]
  },
  {
   "cell_type": "markdown",
   "metadata": {},
   "source": [
    "## Test Task 1.1\n",
    "Below, the implemented code is tested for $g_0(x)=x(1-x)^2$, $N=25, M=2(N+1)^2$ (CFL condition), $\\alpha=\\beta=0$."
   ]
  },
  {
   "cell_type": "code",
   "execution_count": null,
   "metadata": {},
   "outputs": [],
   "source": [
    "N = 25\n",
    "M = 2*51**2\n",
    "t_end = 1\n",
    "alpha = 0\n",
    "beta = 0\n",
    "\n",
    "Y, t_grid, x_grid = euler_solve(lambda x : (x*(1-x))**2, N, M, t_end, alpha, beta)\n",
    "plot3d(Y, x_grid, t_grid)"
   ]
  },
  {
   "cell_type": "markdown",
   "metadata": {},
   "source": [
    "##  Experimental Determination of CFL condition\n",
    "\n",
    "Below, a series of approximation are done for different values of the CFL constant $\\mu=\\frac{\\Delta t}{\\Delta x^2}$ to determine for which values the explicit Euler method converges. The theoretical value is $\\mu\\leq0.5$"
   ]
  },
  {
   "cell_type": "code",
   "execution_count": null,
   "metadata": {},
   "outputs": [],
   "source": [
    "def test_conv(mu, values, convergence):\n",
    "    N = 25\n",
    "    M = int(((N+1)**2)/mu)\n",
    "    t_end = 1\n",
    "    alpha = 0\n",
    "    beta = 0\n",
    "    Y, t_grid, x_grid = euler_solve(lambda x : (x*(1-x))**2, N, M, t_end, alpha, beta)\n",
    "    \n",
    "    if(np.sum(abs(Y[-1,:]))<0.001):\n",
    "        values.append(f\"CFL={mu}\")\n",
    "        convergence.append(\"Converges\")\n",
    "    else:\n",
    "        values.append(f\"CFL={mu}\")\n",
    "        convergence.append(\"Diverges\")\n"
   ]
  },
  {
   "cell_type": "code",
   "execution_count": null,
   "metadata": {},
   "outputs": [],
   "source": [
    "values = []\n",
    "convergence = []\n",
    "\n",
    "for k in range(10):\n",
    "    mu = (k+1) / 10 \n",
    "    test_conv(mu, values, convergence)\n",
    "    \n",
    "df = pd.DataFrame({\n",
    "    \"values\": values,\n",
    "    \"convergence\": convergence,\n",
    "    })\n",
    "\n",
    "df.style \\\n",
    ".format(precision=3, thousands=\".\", decimal=\",\") \\\n",
    ".format_index(str.upper, axis=1)\n",
    "display(df)"
   ]
  },
  {
   "cell_type": "markdown",
   "metadata": {},
   "source": [
    "From the above broad testing, we can determine that the line of convergence is in the intervall $\\mu\\in[5,6)$."
   ]
  },
  {
   "cell_type": "code",
   "execution_count": null,
   "metadata": {},
   "outputs": [],
   "source": [
    "values = []\n",
    "convergence = []\n",
    "\n",
    "testcases = [num/100 for num in range(50, 60)]\n",
    "for test in testcases:\n",
    "    test_conv(test, values, convergence)\n",
    "\n",
    "df = pd.DataFrame({\n",
    "    \"values\": values,\n",
    "    \"convergence\": convergence,\n",
    "    })\n",
    "\n",
    "df.style \\\n",
    ".format(precision=3, thousands=\".\", decimal=\",\") \\\n",
    ".format_index(str.upper, axis=1)\n",
    "display(df)"
   ]
  },
  {
   "cell_type": "markdown",
   "metadata": {},
   "source": [
    "The inteval is now narrowed down to $\\mu\\in[0.5,0.51)$ and further experiments are conducted"
   ]
  },
  {
   "cell_type": "code",
   "execution_count": null,
   "metadata": {},
   "outputs": [],
   "source": [
    "def conv(mu):\n",
    "    N = 25\n",
    "    M = int(((N+1)**2)/mu)\n",
    "    t_end = 1\n",
    "    alpha = 0\n",
    "    beta = 0\n",
    "    Y, t_grid, x_grid = euler_solve(lambda x : (x*(1-x))**2, N, M, t_end, alpha, beta)\n",
    "    if(np.sum(abs(Y[-1,:]))<0.00005):\n",
    "        return True\n",
    "    else:\n",
    "        return False\n",
    "    \n",
    "mu = 0.505\n",
    "while(not conv(mu)):\n",
    "    mu -= (mu - 0.5)/2\n",
    "print(mu)"
   ]
  },
  {
   "cell_type": "markdown",
   "metadata": {},
   "source": [
    "With a tolerance of $0.00005$, the first value of convergence is $\\mu = 0.50125$ and for smaller values, the code takes too long to run without further optimization which leaves the experimenta result och the maximal CFL condition in the interval $\\mu\\in[0.5, 0.50125)$ which is very close to the theoretical value of $\\frac{1}{2}$."
   ]
  },
  {
   "cell_type": "markdown",
   "metadata": {},
   "source": [
    "Visualisation of divergent solution:"
   ]
  },
  {
   "cell_type": "code",
   "execution_count": null,
   "metadata": {},
   "outputs": [],
   "source": [
    "mu = 0.503\n",
    "N = 25\n",
    "M = int(((N+1)**2)/mu)\n",
    "t_end = 1\n",
    "alpha = 0\n",
    "beta = 0\n",
    "Y, t_grid, x_grid = euler_solve(lambda x : (x*(1-x))**2, N, M, t_end, alpha, beta)\n",
    "plot3d(Y, x_grid, t_grid)"
   ]
  },
  {
   "cell_type": "markdown",
   "metadata": {},
   "source": [
    "## Task 1.2\n",
    "\n",
    "The CFL condition is a strong restriction for the time step $\\Delta t$ as is is bounded by $\\Delta x^2$, an implicit solver is preferable. The trapeziodal rule (Crank-Nicholson) is thus implemented below for approximating the same system."
   ]
  },
  {
   "cell_type": "markdown",
   "metadata": {},
   "source": [
    "\\begin{equation*}\n",
    "    u^{n+1}=u^n+\\frac{1}{2}\\Delta t\\left(T_{\\Delta x}u^n+T_{\\Delta x}u^{n+1}\\right) \\implies\n",
    "\\end{equation*}\n",
    "\n",
    "\\begin{equation*}\n",
    "    \\implies u^{n+1}=\\left(I-\\frac{\\Delta t}{2}T_{\\Delta x}\\right)^{-1}\\left(I+\\frac{\\Delta t}{2}T_{\\Delta x}\\right)u^n\n",
    "\\end{equation*}"
   ]
  },
  {
   "cell_type": "code",
   "execution_count": null,
   "metadata": {},
   "outputs": [],
   "source": [
    "def Crank_Nicholson_step(Tdx, uold, dt, alpha, beta):\n",
    "    I = identity(Tdx.get_shape()[0])\n",
    "    RHS = I-0.5*dt*Tdx\n",
    "    LHS = (I+0.5*dt*Tdx) @ (uold.T)\n",
    "    return np.concatenate(([alpha], spsolve(RHS, LHS), [beta]))\n",
    "        \n",
    "def Crank_Nicholson_solver(g_0, N, M, t_end, alpha, beta):\n",
    "    xx = np.linspace(0, 1, N+2)\n",
    "    tt = np.linspace(0, t_end, M+1)\n",
    "    Y = np.zeros((M+1, N+2))\n",
    "    Y[0,:] = g_0(xx)\n",
    "    toep = toeplitz_like(N)\n",
    "    for i in range(M):\n",
    "        Y[i+1,:] = Crank_Nicholson_step(toep, Y[i,:][1:-1], t_end/M, alpha, beta)\n",
    "    return Y, tt, xx"
   ]
  },
  {
   "cell_type": "markdown",
   "metadata": {},
   "source": [
    "Below, the system is approximated for $N,M=50$ to show that the method converges despite violation off the CFL condition."
   ]
  },
  {
   "cell_type": "code",
   "execution_count": null,
   "metadata": {},
   "outputs": [],
   "source": [
    "N = 50\n",
    "M = 50\n",
    "t_end = 1\n",
    "alpha = 0\n",
    "beta = 0\n",
    "Y, t_grid, x_grid = Crank_Nicholson_solver(lambda x : (x*(1-x))**2, N, M, t_end, alpha, beta)\n",
    "plot3d(Y, x_grid, t_grid)"
   ]
  },
  {
   "cell_type": "markdown",
   "metadata": {},
   "source": [
    "## Part 2\n",
    "Next, a second order solver for problems with the Advection equation is implemented."
   ]
  },
  {
   "cell_type": "markdown",
   "metadata": {},
   "source": [
    "\\begin{equation*}\n",
    "    \\begin{cases}\n",
    "        u_t = au_x\\\\\n",
    "        u(t,0)=u(t,1), \\forall t\\\\\n",
    "        u(0,x)=g(x)\n",
    "    \\end{cases}\n",
    "\\end{equation*}\n",
    "$\\Delta x = \\frac{1}{N}$, $N$ evaluation points, $x_1=0, x_{N+1}=1$ and $u_{N+1}=u_1$. $g(0)=g(1)$ and $g'(0)=g'(1)$"
   ]
  },
  {
   "cell_type": "markdown",
   "metadata": {},
   "source": [
    "Implementation of code for approximating this system is done using the Lax-Wendroff scheme:\n",
    "\\begin{equation*}\n",
    "    \\begin{cases}\n",
    "        u_j^{n+1}=\\frac{a\\mu}{2}(1+a\\mu)_{j-1}^n+(1-a^2\\mu^2)u_j^n+\\frac{a\\mu}{2}(a\\mu-1)u_{j+1}^n\\\\\n",
    "        \\mu=\\frac{\\Delta t}{\\Delta x}\n",
    "    \\end{cases}\n",
    "\\end{equation*}\n",
    "The Toeplitz matrix is thus a circulant matrix described as:\n",
    "\n",
    "$$\n",
    "A=\n",
    "\\left(\\begin{array}{c c c c} \n",
    "1-(a\\mu)^2 & a\\mu(a\\mu-1) & \\dots & a\\mu(a\\mu+1)\\\\\n",
    "a\\mu(a\\mu+1) & 1-(a\\mu)^2 & a\\mu(a\\mu-1) & \\dots\\\\\n",
    "\\dots & \\dots & \\dots & \\dots\\\\\n",
    "a\\mu(a\\mu-1) & \\dots & a\\mu(a\\mu+1) & 1-(a\\mu)^2\n",
    "\\end{array}\\right)\n",
    "$$"
   ]
  },
  {
   "cell_type": "code",
   "execution_count": null,
   "metadata": {},
   "outputs": [],
   "source": [
    "def LaxWen_Toeplitz(amu, N):\n",
    "     return csr_matrix(diags([amu/2*(amu-1), amu/2*(amu+1), 1-amu**2, amu/2*(amu-1), amu/2*(amu+1)],\n",
    "                             [-(N-1), -1, 0, 1, N-1], shape=(N,N)))\n",
    "\n",
    "def LaxWen_step(u_old, A):\n",
    "     return A @ np.transpose(u_old)\n",
    "\n",
    "def LaxWen_solver(g0, t_end, N, M, a):\n",
    "     dt = t_end/M\n",
    "     dx = 1/N\n",
    "     amu = a*dt/dx\n",
    "\n",
    "     x_grid = np.linspace(0, 1, N+1)\n",
    "     t_grid = np.linspace(0, t_end, M+1)\n",
    "     Y = np.zeros((M+1, N+1))\n",
    "     Y[0,:] = g0(x_grid)\n",
    "\n",
    "     A_amu = LaxWen_Toeplitz(amu, N+1)\n",
    "\n",
    "     for t in range(M):\n",
    "          Y[t+1, :] = LaxWen_step(Y[t,:], A_amu)\n",
    "\n",
    "     return Y, x_grid, t_grid\n",
    "\n",
    "\n",
    "def plot3d(Y, Xgrid, tgrid):\n",
    "     T, X = np.meshgrid(np.transpose(tgrid), Xgrid)\n",
    "\n",
    "     fig = plt.figure(figsize=(10, 10))\n",
    "     ax = fig.add_subplot(111, projection='3d')\n",
    "     ax.plot_surface(T, X, np.transpose(Y), rcount = 1000, ccount = 1000)\n",
    "\n",
    "     ax.set_xlabel('t')\n",
    "     ax.set_ylabel('x')\n",
    "     ax.set_title('Approximation of Solutions to the Advection Equation \\n with initial value '+\n",
    "                                    r'$u(0,x)=e^{-100(x-0.5)^2}$')\n",
    "     \n",
    "     plt.show()"
   ]
  },
  {
   "cell_type": "markdown",
   "metadata": {},
   "source": [
    "Below, the solution to a pulse $g_0(x)=e^{-100(x-1/2)^2}$, $N=M=1000$, $t_{end}=5$ and $a=-1$ is visualised as a surface plot and later as an animation of the approximation plotted against time."
   ]
  },
  {
   "cell_type": "code",
   "execution_count": null,
   "metadata": {},
   "outputs": [],
   "source": [
    "def pulse(x):\n",
    "    return np.exp(-100*(x-0.5)**2)\n",
    "\n",
    "a = -1\n",
    "t_end = 1\n",
    "N = 1000\n",
    "M = 1000\n",
    "\n",
    "Y, x_grid, t_grid = LaxWen_solver(pulse, t_end, N, M, a)\n",
    "plot3d(Y, x_grid, t_grid)"
   ]
  },
  {
   "cell_type": "code",
   "execution_count": null,
   "metadata": {},
   "outputs": [],
   "source": [
    "import time\n",
    "import pylab as pl\n",
    "from IPython.display import display, clear_output\n",
    "\n",
    "fig = plt.figure()\n",
    "ax = fig.add_subplot(1, 1, 1) \n",
    "\n",
    "for i in range(100):\n",
    "    ax.cla()\n",
    "    ax.plot(x_grid, Y[10*i,:])\n",
    "    display(fig)\n",
    "    \n",
    "    clear_output(wait = True)\n",
    "    plt.pause(0.00000001)"
   ]
  },
  {
   "cell_type": "markdown",
   "metadata": {},
   "source": [
    "To test the CFL condition on the solution, the system is solved with both $CFL = 0.9$ and $CFL = 1$. For $CFL = 1$, the value of $U_{j-1}^n\\mapsto U_j^{n+1}$ and the Lax-Wendroff scheme should yield a constant amplitude to the solution as expected from the solution to the system. The amplitude is plotted as the root-mean-square value of the approximation vector for $CFL=0.9, 1$ to examine if the condition is reflected in the code above."
   ]
  },
  {
   "cell_type": "markdown",
   "metadata": {},
   "source": [
    "## CFL = 0.9\n",
    "$CFL = |a\\frac{\\Delta t}{\\Delta x}|= |a\\frac{\\frac{t_f}{M}}{\\frac{1}{N}}|= |a\\frac{t_fN}{M}|$"
   ]
  },
  {
   "cell_type": "code",
   "execution_count": null,
   "metadata": {},
   "outputs": [],
   "source": [
    "tf = 5\n",
    "M = 1000\n",
    "N = 1000\n",
    "a = 0.9*M/tf/N\n",
    "Y, x_grid, t_grid = LaxWen_solver(pulse, tf, N, M, a)\n",
    "plot3d(Y, x_grid, t_grid)"
   ]
  },
  {
   "cell_type": "code",
   "execution_count": null,
   "metadata": {},
   "outputs": [],
   "source": [
    "RMS = np.zeros(M+1)\n",
    "\n",
    "for i in range(M+1):\n",
    "    RMS[i] = norm(Y[i,:])\n",
    "\n",
    "plt.plot(t_grid, RMS, label='RMS')\n",
    "plt.title('Amplitude of approximation plotted against time for CFL = 0.9')\n",
    "plt.xlabel('t')\n",
    "plt.ylabel('Amplitude')\n",
    "plt.legend()"
   ]
  },
  {
   "cell_type": "markdown",
   "metadata": {},
   "source": [
    "## CFL = 1"
   ]
  },
  {
   "cell_type": "code",
   "execution_count": null,
   "metadata": {},
   "outputs": [],
   "source": [
    "tf = 5\n",
    "M = 1000\n",
    "N = M/tf\n",
    "a = M/tf/N\n",
    "Y, x_grid, t_grid = LaxWen_solver(pulse, tf, int(N), M, a)\n",
    "plot3d(Y, x_grid, t_grid)"
   ]
  },
  {
   "cell_type": "code",
   "execution_count": null,
   "metadata": {},
   "outputs": [],
   "source": [
    "RMS = np.zeros(M+1)\n",
    "\n",
    "for i in range(M+1):\n",
    "    RMS[i] = norm(Y[i,:])\n",
    "\n",
    "plt.plot(t_grid, RMS, label='RMS')\n",
    "plt.title('Amplitude of approximation plotted against time for CFL = 1')\n",
    "plt.xlabel('t')\n",
    "plt.ylabel('Amplitude')\n",
    "plt.legend()"
   ]
  },
  {
   "cell_type": "markdown",
   "metadata": {},
   "source": [
    "## Part 3: The Convection-Diffusion Equation\n",
    "The convection-diffusion equation is stated as:\n",
    "\n",
    "\\begin{equation*}\n",
    "    u_t+au_x=du_{xx}\n",
    "\\end{equation*}\n",
    "\n",
    "A solver using the central difference scheme in spatial coordinates and the trapeziodal rule for the temporal coordinate is implemented below."
   ]
  },
  {
   "cell_type": "markdown",
   "metadata": {},
   "source": [
    "Approximation scheme:\n",
    "\\begin{equation*}\n",
    "    \\frac{dU}{dt}=(dT_{\\Delta x}-aS_{\\Delta x})U\n",
    "\\end{equation*}"
   ]
  },
  {
   "cell_type": "code",
   "execution_count": null,
   "metadata": {},
   "outputs": [],
   "source": [
    "def con_fusion_matrix(d, a, dim):\n",
    "    Tdx = (dim**2)*diags([1, 1, -2, 1, 1],[-(N-1), -1, 0, 1, N-1], shape=(N,N))\n",
    "    Sdx = (dim)/2*diags([1,-1,0,1,-1],[-(N-1), -1, 0, 1, N-1], shape=(N,N))\n",
    "    return csr_matrix(d*Tdx-a*Sdx)\n",
    "\n",
    "def its_a_trap(A, dt, u_old):\n",
    "    I = identity(A.get_shape()[0])\n",
    "    LHS = I-0.5*dt*A\n",
    "    RHS = (I+0.5*dt*A)@u_old.T\n",
    "    u_new = spsolve(LHS, RHS)\n",
    "    return np.append(u_new, u_new[0])\n",
    "\n",
    "def con_fusion_solver(g0, a, d, N, M, t_end):\n",
    "    dx = 1/N\n",
    "    dt = t_end/M\n",
    "    A = con_fusion_matrix(d, a, N+1)\n",
    "\n",
    "    x_grid = np.linspace(0, 1, N+1)\n",
    "    t_grid = np.linspace(0, t_end, M+1)\n",
    "    Y = np.zeros((M+1, N+1))\n",
    "    Y[0,:] = g0(x_grid)\n",
    "\n",
    "    for t in range(M):\n",
    "        Y[t+1,:] = its_a_trap(A, dt, Y[t,:][:-1])\n",
    "    \n",
    "    return Y, x_grid, t_grid\n",
    "    \n",
    "def plot3d(Y, Xgrid, tgrid):\n",
    "    T, X = np.meshgrid(np.transpose(tgrid), Xgrid)\n",
    "\n",
    "    fig = plt.figure(figsize=(10, 10))\n",
    "    ax = fig.add_subplot(111, projection='3d')\n",
    "    ax.plot_surface(T, X, np.transpose(Y), rcount= 1000, ccount = 1000)\n",
    "\n",
    "    ax.set_xlabel('Time')\n",
    "    ax.set_ylabel('Space')\n",
    "    ax.set_zlabel('Value')\n",
    "    ax.set_title('Approximation of Solutions to the Convection-Diffusion Equation \\n with initial value '+\n",
    "                                r'$u(0,x)=e^{-100(x-0.5)^2}$')\n",
    "\n",
    "    plt.show()"
   ]
  },
  {
   "cell_type": "markdown",
   "metadata": {},
   "source": [
    "## Test\n",
    "\n",
    "Below the solver is tested on the pulse initial condition from above with $d=0.1, a = 1, N=M=1000$ in the interval $t\\in[0,1]$"
   ]
  },
  {
   "cell_type": "code",
   "execution_count": null,
   "metadata": {},
   "outputs": [],
   "source": [
    "d = 0.1\n",
    "a = 1\n",
    "N = 1000\n",
    "M = 1000\n",
    "t_end = 1\n",
    "Y, x, t = con_fusion_solver(pulse, a, d, N, M, t_end)\n",
    "plot3d(Y, x, t)"
   ]
  },
  {
   "cell_type": "markdown",
   "metadata": {},
   "source": [
    "The solver is used tested for the $Pe$ value in the interval $(0,1000]$. However, using the import scipy.sparse for solving, the solver worked for even higher values of $Pe$ and ten such solutions are presented below."
   ]
  },
  {
   "cell_type": "markdown",
   "metadata": {},
   "source": [
    "## Test for $Pe=|\\frac{a}{d}|\\in(0,1000]$"
   ]
  },
  {
   "cell_type": "code",
   "execution_count": null,
   "metadata": {},
   "outputs": [],
   "source": [
    "fig, axs = plt.subplots(2, 5, figsize=(15, 6), subplot_kw={'projection': '3d'})\n",
    "\n",
    "Pe = 0.1\n",
    "for k in range(5):\n",
    "    Pe += 100*k\n",
    "    d = 0.1\n",
    "    a = Pe*d\n",
    "    Y, x, t = con_fusion_solver(pulse, a, d, int(N), M, t_end)\n",
    "    axs[0, k].plot_surface(t, x, Y, cmap='viridis')\n",
    "    axs[0, k].set_title('Pe= ' + str(Pe))\n",
    "\n",
    "for k in range(5):\n",
    "    Pe += 100*(k+1)\n",
    "    d = 0.1\n",
    "    a = Pe*d\n",
    "    Y, x, t, = con_fusion_solver(pulse, a, d, int(N), M, t_end)\n",
    "    axs[1, k].plot_surface(t, x, Y, cmap='viridis')\n",
    "    axs[1, k].set_title('Pe= ' + str(Pe))\n",
    "\n",
    "plt.show()"
   ]
  },
  {
   "cell_type": "markdown",
   "metadata": {},
   "source": [
    "## Part 4: The viscous Burgers equation\n",
    "\n",
    "The viscous Burgers' equation is as follows:\n",
    "\\begin{align*}\n",
    "    u_t + uu_x = du_{xx} \n",
    "\\end{align*}\n",
    "\n",
    "Below, the following approximation for a time step $\\Delta t$ will be used.\n",
    "\\begin{align*}\n",
    "u(t+ \\Delta t, x) \\approx u(t,x) + \\Delta tu_t+ \\frac{1}{2}\\Delta t^2u_{tt}\n",
    "\\end{align*}\n",
    "\n",
    "For $d=0$, the inviscid Burgers' equation gives that $u_t=-uu_x$. Further:\n",
    "\\begin{align*}\n",
    "    \\begin{cases}\n",
    "        u_{tt} = \\frac{\\partial}{\\partial t}(-uu_x)=-u_tu_x-uu_{xt} \\\\\n",
    "        u_{tx} = \\frac{\\partial}{\\partial x}(-uu_x)=-u_x^2-uu_{xx}\n",
    "    \\end{cases} \n",
    "\\end{align*}\n",
    "\n",
    "Or, expressed in only spatial derivatives:\n",
    "\\begin{align*}\n",
    "    \\begin{cases}\n",
    "        u_{t} = -uu_x \\\\\n",
    "        u_{tt} = -u^2u_{xx}\n",
    "    \\end{cases} \n",
    "\\end{align*}\n",
    "The approximation scheme is thus:\n",
    "\\begin{align*}\n",
    "u(t+ \\Delta t, x) \\approx u(t,x) - \\Delta tuu_x- \\frac{1}{2}\\Delta t^2u^2u_{xx}\n",
    "\\end{align*}\n",
    "\n",
    "With symmetric finite difference and notation $\\mu = \\frac{\\Delta t}{\\Delta x}$:\n",
    "\\begin{equation*}\n",
    "    u_j^{n+1}=u_j^n-\\frac{\\mu}{2}u_j^n\\left(u_{j+1}^n-u_{j-1}^n\\right)+\\frac{\\mu^2}{2}(u_j^n)^2\\left(u_{j+1}^n-2u_j^n+u_{j-1}^n\\right)\n",
    "\\end{equation*}\n",
    "\n",
    "For the temporal grid, inspiration is drawn from the trapeziodal rule to give the scheme where \n",
    "\n",
    " $LW: u_j^{n+1}\\mapsto u_j^n-\\frac{\\mu}{2}u_j^n\\left(u_{j+1}^n-u_{j-1}^n\\right)+\\frac{\\mu^2}{2}(u_j^n)^2\\left(u_{j+1}^n-2u_j^n+u_{j-1}^n\\right)$:\n",
    "\n",
    "\\begin{equation*}  \n",
    "    \\left(I-\\frac{d\\Delta t}{2}T_{dx}\\right)u^{n+1}=LW(u^n) + \\frac{d\\Delta t}{2}T_{dx}u^n\n",
    "\\end{equation*}\n",
    "\n",
    "Where $T_{dx}$ is the central difference matrix adapted to the circular boundary conditions. The entire scheme is implemented in the cell below."
   ]
  },
  {
   "cell_type": "code",
   "execution_count": null,
   "metadata": {},
   "outputs": [],
   "source": [
    "def circ_centraldiff_matrices(N):\n",
    "    Tdx = (N**2)*diags([1, 1, -2, 1, 1],[-(N-1), -1, 0, 1, N-1], shape=(N,N))\n",
    "    # Sdx = (N)/2*diags([1,-1,0,1,-1],[-(N-1), -1, 0, 1, N-1], shape=(N,N))\n",
    "    return Tdx #, csr_matrix(Sdx)\n",
    "\n",
    "def Burgers_LW(u_n, mu, N):\n",
    "    unew = np.zeros_like(u_n)\n",
    "    for j in range(N):\n",
    "        unew[j] = u_n[j]-0.5*mu*(u_n[(j+1)%N]-u_n[j-1])+0.5*mu**2*(u_n[j])**2*(u_n[(j+1)%N]-2*u_n[j]+u_n[j-1])\n",
    "    return unew \n",
    "    \n",
    "def Burgers_LWsolver(g0, N, M, t_end, d):\n",
    "    dt = t_end / M\n",
    "    dx = 1/N\n",
    "    mu = dt/dx\n",
    "    \n",
    "    x_grid = np.linspace(0, 1, N+1)\n",
    "    t_grid = np.linspace(0, t_end, M)\n",
    "    Y = np.zeros((M, N+1))\n",
    "    Y[0,:] = g0(x_grid)\n",
    "\n",
    "    Tdx = circ_centraldiff_matrices(N+1)\n",
    "\n",
    "    LHS = np.linalg.inv(np.identity(N+1) - 0.5*d*dt*Tdx)\n",
    "    for t in range(M-1):\n",
    "        RHS = Burgers_LW(Y[t,:], mu, N) + 0.5 * d * dt * Tdx @ (Y[t,:].T)\n",
    "        Y[t+1,:] = LHS @ RHS\n",
    "    \n",
    "    return Y, x_grid, t_grid\n",
    "\n",
    "def plot3d(Y, Xgrid, tgrid):\n",
    "     T, X = np.meshgrid(np.transpose(tgrid), Xgrid)\n",
    "\n",
    "     fig = plt.figure(figsize=(10, 10))\n",
    "     ax = fig.add_subplot(111, projection='3d')\n",
    "     ax.plot_surface(T, X, np.transpose(Y), rcount=300, ccount=1000)\n",
    "\n",
    "     ax.set_xlabel('Time')\n",
    "     ax.set_ylabel('Space')\n",
    "     ax.set_zlabel('Value')\n",
    "     ax.set_title('Approximation of Solutions to the invicid Burgers\\' equation \\n with initial value '+\n",
    "                                    r'$u(0,x)=e^{-100(x-0.5)^2}$')\n",
    "     \n",
    "     plt.show()"
   ]
  },
  {
   "cell_type": "markdown",
   "metadata": {},
   "source": [
    "The solver is tested below for $d=0.01, N=300, M=100$ and $t\\in[0,1]$. The result is plotted in the same fashion as previous tests. "
   ]
  },
  {
   "cell_type": "code",
   "execution_count": null,
   "metadata": {},
   "outputs": [],
   "source": [
    "d, N, M, t_end = 0.01, 300, 1000, 1\n",
    "Y, x, t = Burgers_LWsolver(pulse, N, M, t_end, d)\n",
    "plot3d(Y, x, t)"
   ]
  },
  {
   "cell_type": "code",
   "execution_count": null,
   "metadata": {},
   "outputs": [],
   "source": [
    "fig = plt.figure()\n",
    "ax = fig.add_subplot(1, 1, 1) \n",
    "\n",
    "for i in range(100):\n",
    "    ax.cla()\n",
    "    ax.plot(x, Y[10*i,:])\n",
    "    display(fig)\n",
    "    \n",
    "    clear_output(wait = True)\n",
    "    plt.pause(0.00000001)"
   ]
  },
  {
   "cell_type": "markdown",
   "metadata": {},
   "source": [
    "An attempt to produce shock waves which is explained by Oxford dictionnary as -\"a sharp change of pressure in a narrow region travelling through a medium\" is done by increasing the amplitude of the pulse initial condition is done and visualised below. "
   ]
  },
  {
   "cell_type": "code",
   "execution_count": null,
   "metadata": {},
   "outputs": [],
   "source": [
    "Y, x, t = Burgers_LWsolver(lambda x : 5*pulse(x), N, M , t_end, d)\n",
    "plot3d(Y, x, t)"
   ]
  },
  {
   "cell_type": "markdown",
   "metadata": {},
   "source": [
    "Animation of amplitude of approximation plotted against time"
   ]
  },
  {
   "cell_type": "code",
   "execution_count": null,
   "metadata": {},
   "outputs": [],
   "source": [
    "fig = plt.figure()\n",
    "ax = fig.add_subplot(1, 1, 1) \n",
    "\n",
    "for i in range(100):\n",
    "    ax.cla()\n",
    "    ax.plot(x, Y[10*i,:])\n",
    "    display(fig)\n",
    "    \n",
    "    clear_output(wait = True)\n",
    "    plt.pause(0.00000001)"
   ]
  }
 ],
 "metadata": {
  "kernelspec": {
   "display_name": "Python 3",
   "language": "python",
   "name": "python3"
  },
  "language_info": {
   "codemirror_mode": {
    "name": "ipython",
    "version": 3
   },
   "file_extension": ".py",
   "mimetype": "text/x-python",
   "name": "python",
   "nbconvert_exporter": "python",
   "pygments_lexer": "ipython3",
   "version": "3.12.0"
  }
 },
 "nbformat": 4,
 "nbformat_minor": 2
}
