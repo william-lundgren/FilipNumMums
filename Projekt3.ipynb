{
 "cells": [
  {
   "cell_type": "markdown",
   "metadata": {},
   "source": [
    "## Project 3: Numerical Methods for Differential Equations"
   ]
  },
  {
   "cell_type": "markdown",
   "metadata": {},
   "source": [
    "## Task 1"
   ]
  },
  {
   "cell_type": "code",
   "execution_count": 22,
   "metadata": {},
   "outputs": [],
   "source": [
    "import numpy as np\n",
    "import matplotlib.pyplot as plt\n",
    "from scipy.sparse import csr_matrix\n",
    "from scipy.sparse import diags\n",
    "from scipy.sparse.linalg import spsolve\n",
    "from scipy.sparse.linalg import eigs\n",
    "from mpl_toolkits.mplot3d import axes3d"
   ]
  },
  {
   "cell_type": "code",
   "execution_count": 23,
   "metadata": {},
   "outputs": [],
   "source": [
    "def toeplitz_like(dim):\n",
    "    x = csr_matrix((diags([1, -2, 1], [-1, 0, 1], shape=(dim, dim))) * (dim + 1)**2)\n",
    "    return x\n",
    "\n",
    "def euler_step(A: np.array, y_n: np.array, h: float, alpha, beta):\n",
    "    y_n = y_n + h * A @ y_n\n",
    "    y_n = np.concatenate(([alpha], y_n, [beta]))\n",
    "    return np.transpose(y_n)"
   ]
  },
  {
   "cell_type": "markdown",
   "metadata": {},
   "source": [
    "## Task 1.1"
   ]
  },
  {
   "cell_type": "code",
   "execution_count": 24,
   "metadata": {},
   "outputs": [],
   "source": [
    "def euler_solve(g_0, N, M, t_end, alpha, beta):\n",
    "    xx = np.linspace(0, 1, N+2)\n",
    "    tt = np.linspace(0, t_end, M+1)\n",
    "    Y = np.zeros((M+1, N+2))\n",
    "    Y[0,:] = g_0(xx)\n",
    "    toep = toeplitz_like(N)\n",
    "    for i in range(M):\n",
    "        Y[i+1,:] = euler_step(toep, Y[i,:][1:-1], t_end/M, alpha, beta)\n",
    "    return Y, tt, xx"
   ]
  },
  {
   "cell_type": "markdown",
   "metadata": {},
   "source": [
    "## Test Task 1.1"
   ]
  },
  {
   "cell_type": "code",
   "execution_count": 25,
   "metadata": {},
   "outputs": [
    {
     "name": "stderr",
     "output_type": "stream",
     "text": [
      "C:\\Users\\filip\\AppData\\Local\\Temp\\ipykernel_13136\\2202266341.py:6: RuntimeWarning: invalid value encountered in add\n",
      "  y_n = y_n + h * A @ y_n\n"
     ]
    }
   ],
   "source": [
    "N = 50\n",
    "M = 100\n",
    "t_end = 100\n",
    "alpha = 0\n",
    "beta = 0\n",
    "\n",
    "Y, t_grid, x_grid = euler_solve(lambda x : x*(1-x)**2, N, M, t_end, alpha, beta)"
   ]
  },
  {
   "cell_type": "code",
   "execution_count": null,
   "metadata": {},
   "outputs": [],
   "source": []
  }
 ],
 "metadata": {
  "kernelspec": {
   "display_name": "Python 3",
   "language": "python",
   "name": "python3"
  },
  "language_info": {
   "codemirror_mode": {
    "name": "ipython",
    "version": 3
   },
   "file_extension": ".py",
   "mimetype": "text/x-python",
   "name": "python",
   "nbconvert_exporter": "python",
   "pygments_lexer": "ipython3",
   "version": "3.12.0"
  }
 },
 "nbformat": 4,
 "nbformat_minor": 2
}
