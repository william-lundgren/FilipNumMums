{
 "cells": [
  {
   "cell_type": "markdown",
   "metadata": {},
   "source": [
    "## Project 3: Numerical Methods for Differential Equations"
   ]
  },
  {
   "cell_type": "markdown",
   "metadata": {},
   "source": [
    "## Task 1"
   ]
  },
  {
   "cell_type": "code",
   "execution_count": null,
   "metadata": {},
   "outputs": [],
   "source": [
    "import numpy as np\n",
    "import matplotlib.pyplot as plt\n",
    "from scipy.sparse import csr_matrix\n",
    "from scipy.sparse import diags\n",
    "from scipy.sparse.linalg import spsolve\n",
    "from scipy.sparse.linalg import eigs\n",
    "from mpl_toolkits.mplot3d import axes3d\n",
    "from scipy import meshgrid"
   ]
  },
  {
   "cell_type": "code",
   "execution_count": null,
   "metadata": {},
   "outputs": [],
   "source": [
    "def toeplitz_like(dim):\n",
    "    return csr_matrix((diags([1, -2, 1], [-1, 0, 1], shape=(dim, dim))) / (dim + 1)**2)"
   ]
  },
  {
   "cell_type": "code",
   "execution_count": 87,
   "metadata": {},
   "outputs": [],
   "source": [
    "def add(y_new):\n",
    "    y_new = np.concatenate(([0], y_new, [0]))\n",
    "    y_new = np.concatenate((y_new, [0]))\n",
    "    return y_new"
   ]
  },
  {
   "cell_type": "code",
   "execution_count": 88,
   "metadata": {},
   "outputs": [],
   "source": [
    "def euler_step(A: np.array, y_n: np.array, h: float):\n",
    "    y_new = y_n + h * A @ y_n\n",
    "    return add(y_new)"
   ]
  },
  {
   "cell_type": "markdown",
   "metadata": {},
   "source": [
    "### Task 1.1"
   ]
  },
  {
   "cell_type": "code",
   "execution_count": 85,
   "metadata": {},
   "outputs": [],
   "source": [
    "N = 999\n",
    "M = 999\n",
    "tend = 100\n",
    "xx = np.linspace(0, 1, N+2)\n",
    "tt = np.linspace(0, tend, M+1)\n",
    "xv, yv = np.meshgrid(xx, tt)\n",
    "alpha, beta = 0, 0"
   ]
  },
  {
   "cell_type": "code",
   "execution_count": null,
   "metadata": {},
   "outputs": [],
   "source": [
    "def f(x):\n",
    "    return x*(x-1)"
   ]
  },
  {
   "cell_type": "code",
   "execution_count": 86,
   "metadata": {},
   "outputs": [
    {
     "name": "stdout",
     "output_type": "stream",
     "text": [
      "1000\n"
     ]
    },
    {
     "ename": "ValueError",
     "evalue": "could not broadcast input array from shape (1001,) into shape (1000,)",
     "output_type": "error",
     "traceback": [
      "\u001b[0;31m---------------------------------------------------------------------------\u001b[0m",
      "\u001b[0;31mValueError\u001b[0m                                Traceback (most recent call last)",
      "\u001b[1;32m/Users/william/Progg/FilipNumMums/Projekt3.ipynb Cell 9\u001b[0m line \u001b[0;36m2\n\u001b[1;32m      <a href='vscode-notebook-cell:/Users/william/Progg/FilipNumMums/Projekt3.ipynb#X11sZmlsZQ%3D%3D?line=0'>1</a>\u001b[0m \u001b[39mprint\u001b[39m(\u001b[39mlen\u001b[39m(xv[:,\u001b[39m0\u001b[39m]))\n\u001b[0;32m----> <a href='vscode-notebook-cell:/Users/william/Progg/FilipNumMums/Projekt3.ipynb#X11sZmlsZQ%3D%3D?line=1'>2</a>\u001b[0m xv[:, \u001b[39m0\u001b[39;49m] \u001b[39m=\u001b[39m f(xx)\n",
      "\u001b[0;31mValueError\u001b[0m: could not broadcast input array from shape (1001,) into shape (1000,)"
     ]
    }
   ],
   "source": [
    "print(len(xv[:,0]))\n",
    "\n",
    "xv[:, 0] = f(xx)\n"
   ]
  },
  {
   "cell_type": "code",
   "execution_count": 84,
   "metadata": {},
   "outputs": [
    {
     "ename": "ValueError",
     "evalue": "dimension mismatch",
     "output_type": "error",
     "traceback": [
      "\u001b[0;31m---------------------------------------------------------------------------\u001b[0m",
      "\u001b[0;31mValueError\u001b[0m                                Traceback (most recent call last)",
      "\u001b[1;32m/Users/william/Progg/FilipNumMums/Projekt3.ipynb Cell 10\u001b[0m line \u001b[0;36m2\n\u001b[1;32m      <a href='vscode-notebook-cell:/Users/william/Progg/FilipNumMums/Projekt3.ipynb#X20sZmlsZQ%3D%3D?line=0'>1</a>\u001b[0m \u001b[39mfor\u001b[39;00m i \u001b[39min\u001b[39;00m \u001b[39mrange\u001b[39m(M):\n\u001b[0;32m----> <a href='vscode-notebook-cell:/Users/william/Progg/FilipNumMums/Projekt3.ipynb#X20sZmlsZQ%3D%3D?line=1'>2</a>\u001b[0m     xv[:, i \u001b[39m+\u001b[39m \u001b[39m1\u001b[39m] \u001b[39m=\u001b[39m euler_step(toeplitz_like(N), xv[:, \u001b[39m1\u001b[39;49m:\u001b[39m-\u001b[39;49m\u001b[39m1\u001b[39;49m], \u001b[39m1\u001b[39;49m \u001b[39m/\u001b[39;49m (N\u001b[39m+\u001b[39;49m\u001b[39m1\u001b[39;49m))\n",
      "\u001b[1;32m/Users/william/Progg/FilipNumMums/Projekt3.ipynb Cell 10\u001b[0m line \u001b[0;36m2\n\u001b[1;32m      <a href='vscode-notebook-cell:/Users/william/Progg/FilipNumMums/Projekt3.ipynb#X20sZmlsZQ%3D%3D?line=0'>1</a>\u001b[0m \u001b[39mdef\u001b[39;00m \u001b[39meuler_step\u001b[39m(A: np\u001b[39m.\u001b[39marray, y_n: np\u001b[39m.\u001b[39marray, h: \u001b[39mfloat\u001b[39m):\n\u001b[0;32m----> <a href='vscode-notebook-cell:/Users/william/Progg/FilipNumMums/Projekt3.ipynb#X20sZmlsZQ%3D%3D?line=1'>2</a>\u001b[0m     y_new \u001b[39m=\u001b[39m y_n \u001b[39m+\u001b[39m h \u001b[39m*\u001b[39;49m A \u001b[39m@\u001b[39;49m y_n\n\u001b[1;32m      <a href='vscode-notebook-cell:/Users/william/Progg/FilipNumMums/Projekt3.ipynb#X20sZmlsZQ%3D%3D?line=2'>3</a>\u001b[0m     y_new \u001b[39m=\u001b[39m np\u001b[39m.\u001b[39mconcatenate(([\u001b[39m0\u001b[39m], y_new))\n\u001b[1;32m      <a href='vscode-notebook-cell:/Users/william/Progg/FilipNumMums/Projekt3.ipynb#X20sZmlsZQ%3D%3D?line=3'>4</a>\u001b[0m     y_new \u001b[39m=\u001b[39m np\u001b[39m.\u001b[39mconcatenate((y_new, [\u001b[39m0\u001b[39m]))\n",
      "File \u001b[0;32m/opt/homebrew/lib/python3.10/site-packages/scipy/sparse/_base.py:630\u001b[0m, in \u001b[0;36mspmatrix.__matmul__\u001b[0;34m(self, other)\u001b[0m\n\u001b[1;32m    627\u001b[0m \u001b[39mif\u001b[39;00m isscalarlike(other):\n\u001b[1;32m    628\u001b[0m     \u001b[39mraise\u001b[39;00m \u001b[39mValueError\u001b[39;00m(\u001b[39m\"\u001b[39m\u001b[39mScalar operands are not allowed, \u001b[39m\u001b[39m\"\u001b[39m\n\u001b[1;32m    629\u001b[0m                      \u001b[39m\"\u001b[39m\u001b[39muse \u001b[39m\u001b[39m'\u001b[39m\u001b[39m*\u001b[39m\u001b[39m'\u001b[39m\u001b[39m instead\u001b[39m\u001b[39m\"\u001b[39m)\n\u001b[0;32m--> 630\u001b[0m \u001b[39mreturn\u001b[39;00m \u001b[39mself\u001b[39;49m\u001b[39m.\u001b[39;49m_mul_dispatch(other)\n",
      "File \u001b[0;32m/opt/homebrew/lib/python3.10/site-packages/scipy/sparse/_base.py:577\u001b[0m, in \u001b[0;36mspmatrix._mul_dispatch\u001b[0;34m(self, other)\u001b[0m\n\u001b[1;32m    572\u001b[0m \u001b[39melif\u001b[39;00m other\u001b[39m.\u001b[39mndim \u001b[39m==\u001b[39m \u001b[39m2\u001b[39m:\n\u001b[1;32m    573\u001b[0m     \u001b[39m##\u001b[39;00m\n\u001b[1;32m    574\u001b[0m     \u001b[39m# dense 2D array or matrix (\"multivector\")\u001b[39;00m\n\u001b[1;32m    576\u001b[0m     \u001b[39mif\u001b[39;00m other\u001b[39m.\u001b[39mshape[\u001b[39m0\u001b[39m] \u001b[39m!=\u001b[39m \u001b[39mself\u001b[39m\u001b[39m.\u001b[39mshape[\u001b[39m1\u001b[39m]:\n\u001b[0;32m--> 577\u001b[0m         \u001b[39mraise\u001b[39;00m \u001b[39mValueError\u001b[39;00m(\u001b[39m'\u001b[39m\u001b[39mdimension mismatch\u001b[39m\u001b[39m'\u001b[39m)\n\u001b[1;32m    579\u001b[0m     result \u001b[39m=\u001b[39m \u001b[39mself\u001b[39m\u001b[39m.\u001b[39m_mul_multivector(np\u001b[39m.\u001b[39masarray(other))\n\u001b[1;32m    581\u001b[0m     \u001b[39mif\u001b[39;00m \u001b[39misinstance\u001b[39m(other, np\u001b[39m.\u001b[39mmatrix):\n",
      "\u001b[0;31mValueError\u001b[0m: dimension mismatch"
     ]
    }
   ],
   "source": [
    "for i in range(M):\n",
    "    xv[:, i + 1] = euler_step(toeplitz_like(N), xv[:, 1:-1], 1 / (N+1))"
   ]
  },
  {
   "cell_type": "code",
   "execution_count": null,
   "metadata": {},
   "outputs": [],
   "source": []
  }
 ],
 "metadata": {
  "kernelspec": {
   "display_name": "Python 3",
   "language": "python",
   "name": "python3"
  },
  "language_info": {
   "codemirror_mode": {
    "name": "ipython",
    "version": 3
   },
   "file_extension": ".py",
   "mimetype": "text/x-python",
   "name": "python",
   "nbconvert_exporter": "python",
   "pygments_lexer": "ipython3",
   "version": "3.10.13"
  }
 },
 "nbformat": 4,
 "nbformat_minor": 2
}
