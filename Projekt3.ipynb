{
 "cells": [
  {
   "cell_type": "markdown",
   "metadata": {},
   "source": [
    "## Project 3: Numerical Methods for Differential Equations"
   ]
  },
  {
   "cell_type": "markdown",
   "metadata": {},
   "source": [
    "## Task 1"
   ]
  },
  {
   "cell_type": "code",
   "execution_count": null,
   "metadata": {},
   "outputs": [],
   "source": [
    "import numpy as np\n",
    "import pandas as pd\n",
    "import matplotlib.pyplot as plt\n",
    "from scipy.sparse import csr_matrix\n",
    "from scipy.sparse import diags\n",
    "from scipy.sparse import identity\n",
    "from scipy.sparse.linalg import spsolve\n",
    "from scipy.sparse.linalg import eigs\n",
    "from mpl_toolkits.mplot3d import axes3d"
   ]
  },
  {
   "cell_type": "code",
   "execution_count": null,
   "metadata": {},
   "outputs": [],
   "source": [
    "def toeplitz_like(dim):\n",
    "    return csr_matrix((diags([1, -2, 1], [-1, 0, 1], shape=(dim, dim))) * (dim + 1)**2)\n",
    "\n",
    "def euler_step(A: np.array, y_n: np.array, h: float, alpha, beta):\n",
    "    return np.concatenate(([alpha], y_n + h * A @ y_n.T, [beta]))"
   ]
  },
  {
   "cell_type": "markdown",
   "metadata": {},
   "source": [
    "## Task 1.1"
   ]
  },
  {
   "cell_type": "code",
   "execution_count": null,
   "metadata": {},
   "outputs": [],
   "source": [
    "def euler_solve(g_0, N, M, t_end, alpha, beta):\n",
    "    xx = np.linspace(0, 1, N+2)\n",
    "    tt = np.linspace(0, t_end, M+1)\n",
    "    Y = np.zeros((M+1, N+2))\n",
    "    Y[0,:] = g_0(xx)\n",
    "    toep = toeplitz_like(N)\n",
    "    for i in range(M):\n",
    "        Y[i+1,:] = euler_step(toep, Y[i,:][1:-1], t_end/M, alpha, beta)\n",
    "    return Y, tt, xx"
   ]
  },
  {
   "cell_type": "code",
   "execution_count": null,
   "metadata": {},
   "outputs": [],
   "source": [
    "def plot3d(Y, Xgrid, tgrid):\n",
    "     T, X = np.meshgrid(np.transpose(tgrid), Xgrid)\n",
    "\n",
    "     fig = plt.figure(figsize=(10, 10))\n",
    "     ax = fig.add_subplot(111, projection='3d')\n",
    "     ax.plot_surface(T, X, np.transpose(Y))\n",
    "\n",
    "     ax.set_xlabel('Time')\n",
    "     ax.set_ylabel('Space')\n",
    "     ax.set_zlabel('Value')\n",
    "     ax.set_title('Approximation of Solutions to the Diffusion Equation \\n with initial value'+\n",
    "                                    r'$u(0,x)=x(1-x)^2$')\n",
    "     \n",
    "     plt.show()"
   ]
  },
  {
   "cell_type": "markdown",
   "metadata": {},
   "source": [
    "## Test Task 1.1"
   ]
  },
  {
   "cell_type": "code",
   "execution_count": null,
   "metadata": {},
   "outputs": [],
   "source": [
    "N = 25\n",
    "M = 2*51**2\n",
    "t_end = 1\n",
    "alpha = 0\n",
    "beta = 0\n",
    "\n",
    "Y, t_grid, x_grid = euler_solve(lambda x : (x*(1-x))**2, N, M, t_end, alpha, beta)\n",
    "plot3d(Y, x_grid, t_grid)"
   ]
  },
  {
   "cell_type": "markdown",
   "metadata": {},
   "source": [
    "##  Experimental Determination of CFL condition\n",
    "\n",
    "Below, a series of approximation are done for different values of the CFL constant $\\mu=\\frac{\\Delta t}{\\Delta x^2}$ to determine for which values the explicit Euler method converges."
   ]
  },
  {
   "cell_type": "code",
   "execution_count": null,
   "metadata": {},
   "outputs": [],
   "source": [
    "def test_conv(mu, values, convergence):\n",
    "    N = 25\n",
    "    M = int(((N+1)**2)/mu)\n",
    "    t_end = 1\n",
    "    alpha = 0\n",
    "    beta = 0\n",
    "    Y, t_grid, x_grid = euler_solve(lambda x : (x*(1-x))**2, N, M, t_end, alpha, beta)\n",
    "    \n",
    "    if(np.sum(abs(Y[-1,:]))<0.001):\n",
    "        values.append(f\"CFL={mu}\")\n",
    "        convergence.append(\"Converges\")\n",
    "    else:\n",
    "        values.append(f\"CFL={mu}\")\n",
    "        convergence.append(\"Diverges\")\n"
   ]
  },
  {
   "cell_type": "code",
   "execution_count": null,
   "metadata": {},
   "outputs": [],
   "source": [
    "values = []\n",
    "convergence = []\n",
    "\n",
    "for k in range(10):\n",
    "    mu = (k+1) / 10 \n",
    "    test_conv(mu, values, convergence)\n",
    "    \n",
    "df = pd.DataFrame({\n",
    "    \"values\": values,\n",
    "    \"convergence\": convergence,\n",
    "    })\n",
    "\n",
    "df.style \\\n",
    ".format(precision=3, thousands=\".\", decimal=\",\") \\\n",
    ".format_index(str.upper, axis=1)\n",
    "display(df)"
   ]
  },
  {
   "cell_type": "markdown",
   "metadata": {},
   "source": [
    "From the above broad testing, we can determine that the line of convergence is in the intervall $\\mu\\in[5,6)$."
   ]
  },
  {
   "cell_type": "code",
   "execution_count": null,
   "metadata": {},
   "outputs": [],
   "source": [
    "testcases = [num/100 for num in range(50, 60)]\n",
    "for test in testcases:\n",
    "    test_conv(test)\n",
    "\n",
    "df = pd.DataFrame({\n",
    "    \"values\": values,\n",
    "    \"convergence\": convergence,\n",
    "    })\n",
    "\n",
    "df.style \\\n",
    ".format(precision=3, thousands=\".\", decimal=\",\") \\\n",
    ".format_index(str.upper, axis=1)\n",
    "display(df)"
   ]
  },
  {
   "cell_type": "markdown",
   "metadata": {},
   "source": [
    "The inteval is now narrowed down to $\\mu\\in[0.5,0.51)$ and further experiments are conducted"
   ]
  },
  {
   "cell_type": "code",
   "execution_count": null,
   "metadata": {},
   "outputs": [],
   "source": [
    "def conv(mu):\n",
    "    N = 25\n",
    "    M = int(((N+1)**2)/mu)\n",
    "    t_end = 1\n",
    "    alpha = 0\n",
    "    beta = 0\n",
    "    Y, t_grid, x_grid = euler_solve(lambda x : (x*(1-x))**2, N, M, t_end, alpha, beta)\n",
    "    if(np.sum(abs(Y[-1,:]))<0.00005):\n",
    "        return True\n",
    "    else:\n",
    "        return False\n",
    "    \n",
    "mu = 0.505\n",
    "while(not conv(mu)):\n",
    "    mu -= (mu - 0.5)/2\n",
    "print(mu)"
   ]
  },
  {
   "cell_type": "markdown",
   "metadata": {},
   "source": [
    "With a tolerance of $0.00005$, the first value of convergence is $\\mu = 0.50125$ and for smaller values, the code takes too long to run without further optimization which leaves the experimenta result och the maximal CFL condition in the interval $\\mu\\in[0.5, 0.50125)$ which is very close to the theoretical value of $\\frac{1}{2}$."
   ]
  },
  {
   "cell_type": "markdown",
   "metadata": {},
   "source": [
    "Visualisation of divirging solution:"
   ]
  },
  {
   "cell_type": "code",
   "execution_count": null,
   "metadata": {},
   "outputs": [],
   "source": [
    "mu = 0.503\n",
    "N = 25\n",
    "M = int(((N+1)**2)/mu)\n",
    "t_end = 1\n",
    "alpha = 0\n",
    "beta = 0\n",
    "Y, t_grid, x_grid = euler_solve(lambda x : (x*(1-x))**2, N, M, t_end, alpha, beta)\n",
    "plot3d(Y, x_grid, t_grid)"
   ]
  },
  {
   "cell_type": "markdown",
   "metadata": {},
   "source": [
    "## Task 1.2"
   ]
  },
  {
   "cell_type": "markdown",
   "metadata": {},
   "source": [
    "\\begin{equation*}\n",
    "    u^{n+1}=u^n+\\frac{1}{2}\\Delta t\\left(T_{\\Delta x}u^n+T_{\\Delta x}u^{n+1}\\right)\n",
    "\\end{equation*}\n",
    "\n",
    "\\begin{equation*}\n",
    "    u^{n+1}=\\left(I-\\frac{\\Delta t}{2}T_{\\Delta x}\\right)^{-1}\\left(I+\\frac{\\Delta t}{2}T_{\\Delta x}\\right)u^n\n",
    "\\end{equation*}"
   ]
  },
  {
   "cell_type": "code",
   "execution_count": null,
   "metadata": {},
   "outputs": [],
   "source": [
    "def Crank_Nicholson_step(Tdx, uold, dt, alpha, beta):\n",
    "    I = identity(Tdx.get_shape()[0])\n",
    "    RHS = I-0.5*dt*Tdx\n",
    "    LHS = (I+0.5*dt*Tdx) @ (uold.T)\n",
    "    return np.concatenate(([alpha], spsolve(RHS, LHS), [beta]))\n",
    "        \n",
    "def Crank_Nicholson_solver(g_0, N, M, t_end, alpha, beta):\n",
    "    xx = np.linspace(0, 1, N+2)\n",
    "    tt = np.linspace(0, t_end, M+1)\n",
    "    Y = np.zeros((M+1, N+2))\n",
    "    Y[0,:] = g_0(xx)\n",
    "    toep = toeplitz_like(N)\n",
    "    for i in range(M):\n",
    "        Y[i+1,:] = Crank_Nicholson_step(toep, Y[i,:][1:-1], t_end/M, alpha, beta)\n",
    "    return Y, tt, xx"
   ]
  },
  {
   "cell_type": "code",
   "execution_count": null,
   "metadata": {},
   "outputs": [],
   "source": [
    "N = 50\n",
    "M = 50\n",
    "t_end = 1\n",
    "alpha = 0\n",
    "beta = 0\n",
    "Y, t_grid, x_grid = Crank_Nicholson_solver(lambda x : (x*(1-x))**2, N, M, t_end, alpha, beta)\n",
    "plot3d(Y, x_grid, t_grid)"
   ]
  },
  {
   "cell_type": "markdown",
   "metadata": {},
   "source": [
    "# Part 2"
   ]
  },
  {
   "cell_type": "markdown",
   "metadata": {},
   "source": [
    "\\begin{equation*}\n",
    "    \\begin{cases}\n",
    "        u_t = au_x\\\\\n",
    "        u(t,0)=u(t,1), \\forall t\\\\\n",
    "        u(0,x)=g(x)\n",
    "    \\end{cases}\n",
    "\\end{equation*}\n",
    "$\\Delta x = \\frac{1}{N}$, $N$ evaluation points, $x_1=0, x_{N+1}=1$ and $u_{N+1}=u_1$. $g(0)=g(1)$ and $g'(0)=g'(1)$"
   ]
  },
  {
   "cell_type": "markdown",
   "metadata": {},
   "source": [
    "Lax-Wendroff scheme:\n",
    "\\begin{equation*}\n",
    "    \\begin{cases}\n",
    "        u_j^{n+1}=\\frac{a\\mu}{2}(1+a\\mu)_{j-1}^n+(1-a^2\\mu^2)u_j^n+\\frac{a\\mu}{2}(a\\mu-1)u_{j+1}^n\\\\\n",
    "        \\mu=\\frac{\\Delta t}{\\Delta x}\n",
    "    \\end{cases}\n",
    "\\end{equation*}"
   ]
  },
  {
   "cell_type": "code",
   "execution_count": null,
   "metadata": {},
   "outputs": [],
   "source": [
    "def LaxWen_Toeplitz(amu, dim):\n",
    "     A = diags([amu/2*(amu+1), 1-amu**2, amu/2*(amu-1)], [-1, 0, 1], shape=(dim, dim))\n",
    "     A[-1,0] = amu/2*(amu-1)\n",
    "     A[0,-1] = amu/2*(amu+1)\n",
    "     return csr_matrix(A)\n",
    "\n",
    "def LaxWen_step(u_old, A):\n",
    "     return A @ np.transpose(u_old)\n",
    "\n",
    "def LaxWen_solver(g0, t_end, N, M, a):\n",
    "     return "
   ]
  },
  {
   "cell_type": "code",
   "execution_count": null,
   "metadata": {},
   "outputs": [],
   "source": [
    "def pulse(x):\n",
    "    return np.exp(-100*(x-0.5)**2)"
   ]
  }
 ],
 "metadata": {
  "kernelspec": {
   "display_name": "Python 3",
   "language": "python",
   "name": "python3"
  },
  "language_info": {
   "codemirror_mode": {
    "name": "ipython",
    "version": 3
   },
   "file_extension": ".py",
   "mimetype": "text/x-python",
   "name": "python",
   "nbconvert_exporter": "python",
   "pygments_lexer": "ipython3",
   "version": "3.10.13"
  }
 },
 "nbformat": 4,
 "nbformat_minor": 2
}
