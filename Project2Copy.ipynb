{
 "cells": [
  {
   "cell_type": "markdown",
   "metadata": {},
   "source": [
    "## Project 2: Numerical Methods for Differential Equations"
   ]
  },
  {
   "cell_type": "code",
   "execution_count": null,
   "metadata": {},
   "outputs": [],
   "source": [
    "import numpy as np\n",
    "import matplotlib.pyplot as plt\n",
    "from scipy.sparse import csr_matrix\n",
    "from scipy.sparse import diags\n",
    "from scipy.sparse.linalg import spsolve\n",
    "from scipy.sparse.linalg import eigs"
   ]
  },
  {
   "cell_type": "markdown",
   "metadata": {},
   "source": [
    "## Part 1: 2pBVP\n",
    "Consider the problem:\n",
    "\\begin{equation}\n",
    "    \\tag{1}\n",
    "    \\begin{cases}\n",
    "        y''=f(x,y)\\\\\n",
    "        y(0)=\\alpha\\\\\n",
    "        y(L)=\\beta\n",
    "    \\end{cases}\n",
    "\\end{equation}\n",
    "On the intervall $x\\in[0,L]$. This can be discretized with for $\\Delta x=\\frac{L}{N+1}$:\n",
    "\\begin{equation}\n",
    "    \\tag{2}\n",
    "    \\begin{cases}\n",
    "        f(x_i,y_i)=\\frac{y_{i+1}-2y_i+y_{i-1}}{\\Delta x^2}\\\\\n",
    "        y_0=\\alpha\\\\\n",
    "        y_{N+1}=\\beta\n",
    "    \\end{cases}\n",
    "\\end{equation}\n",
    "This resolves in a system of $N$ equations which can be summarized by $F(y)=\\textbf{0}$ where $F$ is the operator such that:\n",
    "\\begin{equation}\n",
    "    \\tag{3}\n",
    "    \\begin{cases}\n",
    "        F_1(y)=\\frac{y_2-2y_1+\\alpha}{\\Delta x^2}-f(x_1,y_1)\\\\\n",
    "        F_i=\\frac{y_{i+1}-2y_i+y_{i-1}}{\\Delta x^2}-f(x_i,y_i), \\qquad i\\in[2,N-1]\\\\\n",
    "        F_{N}=\\frac{\\beta-2y_N+y_{N-1}}{\\Delta x^2}-f(x_N,y_N)\n",
    "    \\end{cases}\n",
    "\\end{equation}"
   ]
  },
  {
   "cell_type": "markdown",
   "metadata": {},
   "source": [
    "In a very fundamental case, $F$ is linear and $f(x,y)$ depends only on $x$. This reduces the problem to solving:\n",
    "$$\n",
    "\\frac{1}{\\Delta x^2}\n",
    "\\left(\\begin{array}{c c c c} \n",
    "-2 & 1 & 0 & \\dots\\\\\n",
    "1  & -2 & 1 & \\dots\\\\\n",
    "0 & 1 & -2 & \\dots\\\\\n",
    "\\dots & \\dots & \\dots & \\dots\\\\\n",
    "\\dots & 1 & -2 & 1\\\\\n",
    "\\dots & 0 & 1 & -2  \n",
    "\\end{array}\\right)\n",
    "\\left(\\begin{array}{c} \n",
    "    y_1 \\\\ y_2 \\\\ .\\\\.\\\\.\\\\ y_N\n",
    "\\end{array}\\right)\n",
    "=\n",
    "\\left(\\begin{array}{c} \n",
    "    -\\frac{\\alpha}{\\Delta x^2} +f(x_1)\\\\ f(x_2) \\\\ .\\\\.\\\\ f(x_{N-1})\\\\ -\\frac{\\beta}{\\Delta x^2}+f(x_N)\n",
    "\\end{array}\\right)\n",
    "$$ "
   ]
  },
  {
   "cell_type": "markdown",
   "metadata": {},
   "source": [
    "## Task 1.1\n",
    "Write a 2pBVP solver"
   ]
  },
  {
   "cell_type": "code",
   "execution_count": null,
   "metadata": {},
   "outputs": [],
   "source": [
    "def toeplitz_like(dim):\n",
    "    return csr_matrix(diags([1, -2, 1], [-1, 0, 1], shape=(dim, dim)))\n",
    "\n",
    "def twopBVP(fvec, alpha, beta, L, N):\n",
    "\n",
    "    dx = L/(N+1)\n",
    "    toeplitz = toeplitz_like(len(fvec))/(dx*dx)\n",
    "\n",
    "    fvec[0]  = fvec[0] -  alpha/(dx*dx)\n",
    "    fvec[-1] = fvec[-1] - beta /(dx*dx)\n",
    "\n",
    "    return spsolve(toeplitz, fvec)\n",
    "\n",
    "def twopBVP_withSteplength(fvec, alpha, beta, L, N):\n",
    "\n",
    "    dx = L/(N+1)\n",
    "    toeplitz = toeplitz_like(len(fvec))/(dx*dx)\n",
    "\n",
    "    fvec[0]  = fvec[0]  -  alpha/(dx*dx)\n",
    "    fvec[-1] = fvec[-1] - beta/(dx*dx)\n",
    "\n",
    "    return spsolve(toeplitz, fvec), dx"
   ]
  },
  {
   "cell_type": "markdown",
   "metadata": {},
   "source": [
    "#### Testing\n",
    "\n",
    "To test the 2pBVP solver above, it is first applied to the function $y=e^{-x}$ which gives that $f(x)=y(x)$ and the intervall is set to $x\\in[0,10]$ For which $\\alpha=1, \\beta = e^{-10}$ and the length $L$ of the intervall is $10$. The global error of the function is further plotted against steplength $\\Delta x = \\frac{L}{N+1}$"
   ]
  },
  {
   "cell_type": "code",
   "execution_count": null,
   "metadata": {},
   "outputs": [],
   "source": [
    "def f(x):\n",
    "    return np.exp(-x)\n",
    "\n",
    "x = np.linspace(0,10,1000)\n",
    "\n",
    "fvec = np.zeros(1000-2)\n",
    "for i in range(len(fvec)):\n",
    "    fvec[i] = f(x[i])\n",
    "\n",
    "y = twopBVP(fvec, 1, np.e**(-10), 1, 100)\n",
    "y = np.concatenate(([1],y))\n",
    "y = np.concatenate((y,[np.e**(-10)]))\n",
    "\n",
    "exact_sol = np.zeros_like(x)\n",
    "\n",
    "for i, x_n in enumerate(x):\n",
    "    exact_sol[i] = np.e**(-x_n)\n",
    " "
   ]
  },
  {
   "cell_type": "code",
   "execution_count": null,
   "metadata": {},
   "outputs": [],
   "source": [
    "plt.plot(x,y, label='y(x)')\n",
    "plt.plot(x,exact_sol, label='Exact Solution')\n",
    "plt.title('Solution to y\\'\\'=y, y(0)=1, y(10)=$e^{-10}$ \\n using 2pBVP solver')\n",
    "plt.legend()\n",
    "plt.grid()\n",
    "plt.xlabel('x')\n",
    "plt.ylabel('y')"
   ]
  },
  {
   "cell_type": "code",
   "execution_count": null,
   "metadata": {},
   "outputs": [],
   "source": [
    "Nvec     = [int(np.power(2,i)) for i in range(3, 10)]\n",
    "stepgrid = np.zeros_like(Nvec)\n",
    "error    = np.zeros_like(Nvec)\n",
    "stepgrid = stepgrid.astype(float)\n",
    "error    = error.astype(float)\n",
    "\n",
    "for i, N in enumerate(Nvec):\n",
    "    stepgrid[i] = 10/(N+1)\n",
    "    approx = twopBVP(fvec, 1, np.e**(-10), 10, N)\n",
    "    temp_error = np.zeros_like(approx)\n",
    "\n",
    "    for j, x_approx in enumerate(approx):\n",
    "        temp_error[j] = x_approx - np.e**(-(j*stepgrid[i]))\n",
    "    error[i] = np.linalg.norm(temp_error)"
   ]
  },
  {
   "cell_type": "code",
   "execution_count": null,
   "metadata": {},
   "outputs": [],
   "source": [
    "k = np.log(error[-1]/error[0])/np.log(stepgrid[-1]/stepgrid[0])\n",
    "\n",
    "plt.plot(np.log(stepgrid), np.log(error), label=('k=', k))\n",
    "plt.title('Logarithmic plot of global error as \\n a function of steplength')\n",
    "plt.xlabel('Log(Steplength)')\n",
    "plt.ylabel('Log(Global error)')\n",
    "plt.legend()\n",
    "plt.grid()"
   ]
  },
  {
   "cell_type": "markdown",
   "metadata": {},
   "source": [
    "## The Beam Equation\n",
    "\n",
    "An elastic beam under load is deflected in accordance with its material properties and the applied load. According to elasticity theory, the deflection $u$ is governed by the differential equations:\n",
    "\\begin{equation}\n",
    "\\tag{4}\n",
    "    \\begin{cases}\n",
    "        M''=q\\\\\n",
    "        u''=\\frac{M}{EI}\n",
    "    \\end{cases}\n",
    "\\end{equation}\n",
    "where $q(x)$ is the load density (N/m); $M(x)$ is the bending moment (Nm);\n",
    "$E$ is Young’s modulus of elasticity (N/m $^2$); $I$ is the beam’s cross-section\n",
    "moment of inertia (m $^4$); and u is the beam’s centerline deflection (m). The beam is supported which gives that $u(0)=u(L)=0$. Furthermore, it is assumed that no bending is given at endpoints resulting in $M(0)=M(L)=0$"
   ]
  },
  {
   "cell_type": "markdown",
   "metadata": {},
   "source": [
    "## Task 1.2\n",
    "\n",
    "Given that $L=10$, $E=1.9 \\cdot 10^{11}$ Nm $^{-2}$ and the beam cross-section moment of inertia is given as \n",
    "\\begin{equation*}\n",
    "    I(x)=\\frac{1}{1000}\\left(3-2\\cos^{12}\\frac{\\pi x}{L}\\right)\n",
    "\\end{equation*}\n",
    "The problem is solved for the load $q(x)=-50\\ 000$ N/m below."
   ]
  },
  {
   "cell_type": "markdown",
   "metadata": {},
   "source": [
    "Firstly, the equation for $M$ is solved using the 2pBVP Solver from above. $N=999$ steps corresponding to $\\Delta x=0.01$ is done."
   ]
  },
  {
   "cell_type": "code",
   "execution_count": null,
   "metadata": {},
   "outputs": [],
   "source": [
    "q = -50000\n",
    "L = 10\n",
    "beam_vec = np.linspace(0,L,1001)\n",
    "\n",
    "q_vec = q * np.ones(1001-2)\n",
    "\n",
    "M = twopBVP(q_vec, 0, 0, L, 999)\n",
    "M = np.concatenate(([0],M))\n",
    "M = np.concatenate((M,[0]))"
   ]
  },
  {
   "cell_type": "code",
   "execution_count": null,
   "metadata": {},
   "outputs": [],
   "source": [
    "plt.plot(beam_vec, M, label='M(x)')\n",
    "plt.title('Bending moment M on beam of length 10m \\n with load q = -50000 kN')\n",
    "plt.xlabel('x [m]')\n",
    "plt.ylabel('M [Nm]')\n",
    "plt.legend()"
   ]
  },
  {
   "cell_type": "markdown",
   "metadata": {},
   "source": [
    "Further, the equation for $u$ is solved."
   ]
  },
  {
   "cell_type": "code",
   "execution_count": null,
   "metadata": {},
   "outputs": [],
   "source": [
    "E     = 1.9e11\n",
    "E_inv = 1/E\n",
    "\n",
    "def I(x):\n",
    "    return 0.001*(3-2*(np.cos(np.pi*x/L))**(12))\n",
    "\n",
    "def I_inv(x):\n",
    "    return 1/I(x)\n",
    "\n",
    "beam = np.linspace(0,10,1001)\n",
    "\n",
    "f_vec_beam = np.zeros(1001-2)\n",
    "\n",
    "for i in range(len(f_vec_beam)):\n",
    "    f_vec_beam[i] = E_inv * I_inv(beam[i+1]) * M[i+1]\n",
    "\n",
    "\n",
    "u = twopBVP(f_vec_beam, 0, 0, L, 999)\n",
    "u = np.concatenate(([0],u))\n",
    "u = np.concatenate((u,[0]))"
   ]
  },
  {
   "cell_type": "code",
   "execution_count": null,
   "metadata": {},
   "outputs": [],
   "source": [
    "plt.plot(beam_vec, u, label='u(x)')\n",
    "plt.title('Deflection of beam with length 10m with specifications \\n according to above')\n",
    "plt.xlabel('x [m]')\n",
    "plt.ylabel('x [m]')\n",
    "plt.legend()"
   ]
  },
  {
   "cell_type": "markdown",
   "metadata": {},
   "source": [
    "To determine the accuracy of the code, the deflection at the beam's midpoint "
   ]
  },
  {
   "cell_type": "code",
   "execution_count": null,
   "metadata": {},
   "outputs": [],
   "source": [
    "print(u[500])"
   ]
  },
  {
   "cell_type": "markdown",
   "metadata": {},
   "source": [
    "To eight exact digits, this value is:\n",
    "\\begin{equation*}\n",
    "-0.01174106 \\text{ m}\n",
    "\\end{equation*}"
   ]
  },
  {
   "cell_type": "markdown",
   "metadata": {},
   "source": [
    "## Part 2\n",
    "\n",
    "Sturm-Liouville problems are formulated as:\n",
    "\\begin{equation}\n",
    "    \\tag{5}\n",
    "    \\begin{cases}\n",
    "    \\frac{d}{dx}\\left(p(x)\\frac{dy}{dx}\\right)-q(x)y=\\lambda y\\\\\n",
    "    y(\\alpha) = 0\\\\\n",
    "    y(\\beta) = 0\n",
    "    \\end{cases}\n",
    "\\end{equation}\n"
   ]
  },
  {
   "cell_type": "markdown",
   "metadata": {},
   "source": [
    "## Task 2.1\n",
    "\n",
    "The Sturm-Liouville problem:\n",
    "\\begin{equation}\n",
    "\\tag{6}\n",
    "    \\begin{cases}\n",
    "        u''=\\lambda u\\\\\n",
    "        u(0)=0\\\\\n",
    "        u'(1)=0\n",
    "    \\end{cases}\n",
    "\\end{equation}\n",
    "Has analytical solutions for $\\lambda<0$ as $u(x)=a\\sin\\sqrt{-\\lambda}x, \\quad a\\in\\mathbb{R}$ where the second boundary condition implies $\\sqrt{-\\lambda}=(2k+1)\\frac{\\pi}{2},\\quad k=0,1,2,...$. \n"
   ]
  },
  {
   "cell_type": "markdown",
   "metadata": {},
   "source": [
    "To take into account the Neumann boundary condition, the third approach from the lectures is used. The following is used:\n",
    "\\begin{equation*}\n",
    "    y'(x)=\\frac{y(x-2\\Delta x)-4y(x-\\Delta x+3y(x))}{2\\Delta x}+O(\\Delta x^2)\n",
    "\\end{equation*}\n",
    "This gives the discretization:\n",
    "\\begin{equation*}\n",
    "    \\begin{cases}\n",
    "        x_k=k\\Delta x\\\\\n",
    "        \\Delta x = \\frac{1}{N+1}\\\\\n",
    "        \\beta = y'(1)\\approx\\frac{y_{N+1}-y_{N-1}}{2\\Delta x}\n",
    "    \\end{cases}\n",
    "\\end{equation*}\n",
    "With the condition $\\beta = 0$ this gives $y_{N+1}=y_{N-1}+2\\Delta x\\beta$. This is used to rewrite the 2pBVP problem from above. The Toeplitz matrix now instead becomes:\n",
    "$$\n",
    "\\frac{1}{\\Delta x^2}\n",
    "\\left(\\begin{array}{c c c c} \n",
    "-2 & 1 & 0 & \\dots\\\\\n",
    "1  & -2 & 1 & \\dots\\\\\n",
    "0 & 1 & -2 & \\dots\\\\\n",
    "\\dots & \\dots & \\dots & \\dots\\\\\n",
    "\\dots & 1 & -2 & 1\\\\\n",
    "\\dots & 0 & 1+1 & -2 \n",
    "\\end{array}\\right)\n",
    "$$"
   ]
  },
  {
   "cell_type": "code",
   "execution_count": null,
   "metadata": {},
   "outputs": [],
   "source": [
    "# Returns the NxN matrix of size dim described above as a csr_matrix\n",
    "def Neumann_toeplitz_dim(dim):\n",
    "    dx = 1/(dim)\n",
    "\n",
    "    toeplitz              = diags([1, -2, 1], [-1, 0, 1], shape=(dim, dim)).toarray()\n",
    "    toeplitz[-1, dim - 2] = 2\n",
    "    toeplitz              = toeplitz/(dx*dx)\n",
    "\n",
    "    return csr_matrix(toeplitz)\n",
    "\n",
    "three_first_eigenvalues = -0.25*np.pi**2*np.array([1, 9, 25])"
   ]
  },
  {
   "cell_type": "markdown",
   "metadata": {},
   "source": [
    "For the specific problem (6), the error of the three first eigenvalues $-\\frac{\\pi^2}{4}, -3^2\\frac{\\pi^2}{4}, -5^2\\frac{\\pi^2}{4}$ is studied as a function of number of interior points $N$."
   ]
  },
  {
   "cell_type": "code",
   "execution_count": null,
   "metadata": {},
   "outputs": [],
   "source": [
    "Nvec         = [int(np.power(2,i)) for i in range(3, 10)]\n",
    "eigen_errors = np.zeros((len(Nvec), 3))\n",
    "stepgrid     = np.zeros_like(Nvec)\n",
    "stepgrid     = stepgrid.astype(float)\n",
    "\n",
    "\n",
    "for i, n in enumerate(Nvec):\n",
    "    stepgrid[i] = 1/(n)\n",
    "    val, vec = eigs(Neumann_toeplitz_dim(n), 3, None, None, 'SM')\n",
    "    val -= three_first_eigenvalues\n",
    "    val = abs(val)\n",
    "    eigen_errors[i,:] = val\n",
    "\n",
    "# The error of the first eigenvalue as a function of Nvec, \n",
    "# is now in eigen_errors[:,0], the second in [:,1] and the \n",
    "# third in [:,2]."
   ]
  },
  {
   "cell_type": "markdown",
   "metadata": {},
   "source": [
    "Below, the respective errors are plotted against number of interior points N"
   ]
  },
  {
   "cell_type": "code",
   "execution_count": null,
   "metadata": {},
   "outputs": [],
   "source": [
    "fig, (ax1, ax2) = plt.subplots(2)\n",
    "fig.suptitle('Error for first Eigenvalue')\n",
    "ax1.plot(np.log(Nvec), np.log(eigen_errors[:,0]))\n",
    "ax2.plot(np.log(stepgrid), np.log(eigen_errors[:,0]))\n",
    "ax1.title.set_text('Log(Error) VS Log(N)')\n",
    "ax2.title.set_text('Log(Error) VS Log(h)')\n",
    "\n",
    "print('Slope for first plot: ', np.log(eigen_errors[-1,0]/eigen_errors[0,0])/np.log(Nvec[-1]/Nvec[0]))\n",
    "print('Slope of the second plot: ', np.log(eigen_errors[-1,0]/eigen_errors[0,0])/np.log(stepgrid[-1]/stepgrid[0]))"
   ]
  },
  {
   "cell_type": "code",
   "execution_count": null,
   "metadata": {},
   "outputs": [],
   "source": [
    "fig, (ax1, ax2) = plt.subplots(2)\n",
    "fig.suptitle('Error for second Eigenvalue')\n",
    "ax1.plot(np.log(Nvec), np.log(eigen_errors[:,1]))\n",
    "ax2.plot(np.log(stepgrid), np.log(eigen_errors[:,1]))\n",
    "ax1.title.set_text('Log(Error) VS Log(N)')\n",
    "ax2.title.set_text('Log(Error) VS Log(h)')\n",
    "\n",
    "print('Slope for first plot: ', np.log(eigen_errors[-1,1]/eigen_errors[0,1])/np.log(Nvec[-1]/Nvec[0]))\n",
    "print('Slope of the second plot: ', np.log(eigen_errors[-1,1]/eigen_errors[0,1])/np.log(stepgrid[-1]/stepgrid[0]))\n"
   ]
  },
  {
   "cell_type": "code",
   "execution_count": null,
   "metadata": {},
   "outputs": [],
   "source": [
    "fig, (ax1, ax2) = plt.subplots(2)\n",
    "fig.suptitle('Error for third Eigenvalue')\n",
    "ax1.plot(np.log(Nvec), np.log(eigen_errors[:,2]))\n",
    "ax2.plot(np.log(stepgrid), np.log(eigen_errors[:,2]))\n",
    "ax1.title.set_text('Log(Error) VS Log(N)')\n",
    "ax2.title.set_text('Log(Error) VS Log(h)')\n",
    "\n",
    "print('Slope for first plot: ', np.log(eigen_errors[-1,2]/eigen_errors[0,2])/np.log(Nvec[-1]/Nvec[0]))\n",
    "print('Slope of the second plot: ', np.log(eigen_errors[-1,2]/eigen_errors[0,2])/np.log(stepgrid[-1]/stepgrid[0]))\n"
   ]
  },
  {
   "cell_type": "code",
   "execution_count": null,
   "metadata": {},
   "outputs": [],
   "source": [
    "val, vec = eigs(Neumann_toeplitz_dim(499), 3, None, None, 'SM')\n",
    "print(val)\n",
    "\n",
    "vec1 = vec[:,0]\n",
    "vec2 = vec[:,1]\n",
    "vec3 = vec[:,2]\n",
    "\n",
    "bound1 = (1/3)*(4*vec1[-1]-vec1[len(vec1)-2])\n",
    "bound2 = (1/3)*(4*vec2[-1]-vec2[len(vec2)-2])\n",
    "bound3 = (1/3)*(4*vec3[-1]-vec3[len(vec2)-2])\n",
    "\n",
    "vec1 = np.concatenate(([0], vec1))\n",
    "vec1 = np.concatenate((vec1, [bound1]))\n",
    "vec2 = np.concatenate(([0], vec2))\n",
    "vec2= np.concatenate((vec2, [bound2]))\n",
    "vec3 = np.concatenate(([0], vec3))\n",
    "vec3 = np.concatenate((vec3, [bound3]))\n"
   ]
  },
  {
   "cell_type": "markdown",
   "metadata": {},
   "source": [
    "For $N=499$, the three smallest eigenvalues to an accuracy of 8 digits are given by:\n",
    "\\begin{equation}\n",
    "\\tag{7}\n",
    "    \\begin{cases}\n",
    "        \\lambda_1=-2.45753937\\\\\n",
    "        \\lambda_2=-22.11771053\\\\\n",
    "        \\lambda_3=-61.43728602\n",
    "    \\end{cases}\n",
    "\\end{equation}\n",
    "The analytical values are:\n",
    "\\begin{equation*}\n",
    "    \\begin{cases}\n",
    "        \\lambda_1=-\\frac{\\pi^2}{4}\\approx-2.467401\\\\\n",
    "        \\lambda_2=-\\frac{9\\pi^2}{4}\\approx-22.2066099\\\\\n",
    "        \\lambda_3=-\\frac{25\\pi^2}{4}\\approx-61.68502751\n",
    "    \\end{cases}\n",
    "\\end{equation*}"
   ]
  },
  {
   "cell_type": "code",
   "execution_count": null,
   "metadata": {},
   "outputs": [],
   "source": [
    "x = np.linspace(0,1,501)\n",
    "\n",
    "plt.plot(x, vec1, label=r'$u_1(x)$')\n",
    "plt.title('First Eigenmode of the equation \\n u\\'\\'=ku, u(0)=u\\'(1)=0')\n",
    "plt.xlabel('x')\n",
    "plt.ylabel('u(x)')\n",
    "plt.legend()"
   ]
  },
  {
   "cell_type": "code",
   "execution_count": null,
   "metadata": {},
   "outputs": [],
   "source": [
    "plt.plot(x, vec2, label=r'$u_2(x)$')\n",
    "plt.title('Second Eigenmode of the equation \\n u\\'\\'=ku, u(0)=u\\'(1)=0')\n",
    "plt.xlabel('x')\n",
    "plt.ylabel('u')\n",
    "plt.legend()"
   ]
  },
  {
   "cell_type": "code",
   "execution_count": null,
   "metadata": {},
   "outputs": [],
   "source": [
    "plt.plot(x, vec3, label=r'$u_3(x)$')\n",
    "plt.title('Third Eigenmode of the equation \\n $u\\'\\'=ku, u(0)=u\\'(1)=0$')\n",
    "plt.xlabel('x')\n",
    "plt.ylabel('u')\n",
    "plt.legend()"
   ]
  },
  {
   "cell_type": "markdown",
   "metadata": {},
   "source": [
    "## The Scrödinger equation\n",
    "The time-independent Schrödinger equation is:\n",
    "\\begin{equation}\n",
    "    \\tag{8}\n",
    "    -\\frac{\\hbar^2}{2m}\\nabla\\psi+V\\psi=E\\psi\n",
    "\\end{equation}\n",
    "With units normalized and in one dimension, this is reduced to (9)\n",
    "\\begin{equation}\n",
    "    \\tag{9}\n",
    "    \\psi''(x)-V(x)\\psi(x)=-E\\psi(x)\n",
    "\\end{equation}\n",
    "And can thus be interpreted as a eigenvalue problem. Assuming that the potential is infinite outside of the defined well, the boundary conditions $\\psi(0)=\\psi(1)=0$"
   ]
  },
  {
   "cell_type": "markdown",
   "metadata": {},
   "source": [
    "## Task 2.2\n",
    "Construct a solver for the stationary Schrödinger equation for any\n",
    "given potential $V(x)$. The solver should compute the first few eigenval-\n",
    "ues (say up to six to ten eigenvalues), and plot both the wave functions $\\psi$\n",
    "and the probability densities $|\\psi|^2$.\n",
    "\n",
    "To do this, the equation (9) is rewritten as:\n",
    "\n",
    "\\begin{equation*}\n",
    "    \\begin{cases}\n",
    "        \\psi''(x)=(V(x)-E)\\psi(x)\\\\\n",
    "        \\psi(0)=0\\\\\n",
    "        \\psi(1)=0\n",
    "    \\end{cases}\n",
    "\\end{equation*}"
   ]
  },
  {
   "cell_type": "code",
   "execution_count": null,
   "metadata": {},
   "outputs": [],
   "source": [
    "def toeplitz_SE(dim):\n",
    "    return diags([1, -2, 1], [-1, 0, 1], shape=(dim, dim)).toarray()\n",
    "\n",
    "def potential_to_matrix(dim, V, x0, xf):\n",
    "    V_vec = np.zeros(dim)\n",
    "    V_vec = V_vec.astype(float)\n",
    "    dx    = (xf-x0)/(dim+1)\n",
    "\n",
    "    for k in range(dim):\n",
    "        V_vec[k] = V((k+1)*dx)\n",
    "\n",
    "    return np.diag(V_vec)\n",
    "\n",
    "def SE_matrix(V, x0, xf, N):\n",
    "    dx = (xf-x0)/(N+1)\n",
    "    return csr_matrix(toeplitz_SE(N)/(dx*dx) - potential_to_matrix(N, V, x0, xf))\n",
    "\n",
    "def SE_solver(V, x0, xf, N, nbrEigen):\n",
    "    val, vec = eigs(SE_matrix(V, x0, xf, N), nbrEigen, None, None, 'SM')\n",
    "    grid = np.linspace(x0, xf, N+2)\n",
    "\n",
    "    return grid, vec, val\n"
   ]
  },
  {
   "cell_type": "markdown",
   "metadata": {},
   "source": [
    "#### Test for $V(x)=0$"
   ]
  },
  {
   "cell_type": "code",
   "execution_count": null,
   "metadata": {},
   "outputs": [],
   "source": [
    "def V0(x):\n",
    "    return 0\n",
    "\n",
    "grid, vec, val = SE_solver(V0, 0, 1, 1000, 6)\n",
    "\n",
    "fig, (psi, prob) = plt.subplots(1, 2)\n",
    "fig.suptitle('Solutions to the Schrödinger equation for \\n '+r'$V(x)=0$')\n",
    "\n",
    "for k in range(6):\n",
    "    vec0 = vec[:,k]\n",
    "    vec0 = np.concatenate(([0], vec0))\n",
    "    vec0 = np.concatenate((vec0, [0]))\n",
    "\n",
    "    Norm = 3/np.sqrt((1/1001)*sum(abs(vec0)**2))\n",
    "    vec0 = Norm*vec0\n",
    "\n",
    "    prob0 = abs(vec0)**2\n",
    "\n",
    "    vec0 = vec0 - val[k]\n",
    "    prob0 = prob0 - val[k]\n",
    "    psi.plot(grid, vec0, label=k+1)\n",
    "    prob.plot(grid, prob0, label=k+1)\n",
    "psi.legend()\n",
    "psi.title.set_text(r'$\\psi$')\n",
    "prob.legend()\n",
    "prob.title.set_text(r'$|\\psi|^2$')\n",
    "    "
   ]
  },
  {
   "cell_type": "markdown",
   "metadata": {},
   "source": [
    "## Handling of potentials $\\neq 0$\n",
    "\n",
    "#### Firstly $V(x) = 700(0.5 − |x − 0.5|)$"
   ]
  },
  {
   "cell_type": "code",
   "execution_count": null,
   "metadata": {},
   "outputs": [],
   "source": [
    "def V1(x):\n",
    "    return 700*(0.5-np.sqrt((x-0.5)**2))\n",
    "\n",
    "grid, vec1, val1 = SE_solver(V1, 0, 1, 1000, 6)"
   ]
  },
  {
   "cell_type": "code",
   "execution_count": null,
   "metadata": {},
   "outputs": [],
   "source": [
    "fig1, (psi1, prob1) = plt.subplots(1, 2)\n",
    "fig1.suptitle('Solutions to the Schrödinger equation for \\n '+r'$V(x)=700(0.5-|x-0.5|)$')\n",
    "for k in range(6):\n",
    "    vec0 = vec1[:,k]\n",
    "    vec0 = np.concatenate(([0], vec0))\n",
    "    vec0 = np.concatenate((vec0, [0]))\n",
    "\n",
    "    Norm = 3/np.sqrt((1/1001)*sum(abs(vec0)**2))\n",
    "    vec0 = Norm*vec0\n",
    "\n",
    "    prob0 = abs(vec0)**2\n",
    "\n",
    "    vec0 = vec0 - val1[k]\n",
    "    prob0 = prob0 - val1[k]\n",
    "    psi1.plot(grid, vec0, label=k+1)\n",
    "    prob1.plot(grid, prob0, label=k+1)\n",
    "psi1.legend()\n",
    "psi1.title.set_text(r'$\\psi$')\n",
    "prob1.legend()\n",
    "prob1.title.set_text(r'$|\\psi|^2$')"
   ]
  },
  {
   "cell_type": "markdown",
   "metadata": {},
   "source": [
    "#### Secondly $V(x)=800\\sin^2 πx$"
   ]
  },
  {
   "cell_type": "code",
   "execution_count": null,
   "metadata": {},
   "outputs": [],
   "source": [
    "def V2(x):\n",
    "    return 800*(np.sin(np.pi*x))**2\n",
    "\n",
    "grid, vec1, val1 = SE_solver(V2, 0, 1, 1000, 6)"
   ]
  },
  {
   "cell_type": "code",
   "execution_count": null,
   "metadata": {},
   "outputs": [],
   "source": [
    "fig1, (psi1, prob1) = plt.subplots(1, 2)\n",
    "fig1.suptitle('Solutions to the Schrödinger equation for \\n '+r'$V(x)=800\\sin^2(\\pi x)$')\n",
    "for k in range(6):\n",
    "    vec0 = vec1[:,k]\n",
    "    vec0 = np.concatenate(([0], vec0))\n",
    "    vec0 = np.concatenate((vec0, [0]))\n",
    "\n",
    "    N = 3/np.sqrt((1/1001)*sum(abs(vec0)**2))\n",
    "    vec0 = N*vec0\n",
    "\n",
    "    prob0 = abs(vec0)**2\n",
    "\n",
    "    vec0 = vec0 - val1[k]\n",
    "    prob0 = prob0 - val1[k]\n",
    "    psi1.plot(grid, vec0, label=k+1)\n",
    "    prob1.plot(grid, prob0, label=k+1)\n",
    "psi1.legend()\n",
    "psi1.title.set_text(r'$\\psi$')\n",
    "prob1.legend()\n",
    "prob1.title.set_text(r'$|\\psi|^2$')"
   ]
  },
  {
   "cell_type": "markdown",
   "metadata": {},
   "source": [
    "#### Finally, the potential $V(x)=\\delta(x-\\frac{1}{2})$, where $\\delta$ is the dirac function is examined"
   ]
  },
  {
   "cell_type": "code",
   "execution_count": null,
   "metadata": {},
   "outputs": [],
   "source": [
    "def V_delta(x):\n",
    "    if(x == 500/1001):\n",
    "        return 2**20\n",
    "    if(x == 501/1001):\n",
    "        return 2**20\n",
    "    return 0\n",
    "\n",
    "grid, vec1, val1 = SE_solver(V_delta, 0, 1, 1000, 6)"
   ]
  },
  {
   "cell_type": "code",
   "execution_count": null,
   "metadata": {},
   "outputs": [],
   "source": [
    "fig1, (psi1, prob1) = plt.subplots(1, 2)\n",
    "fig1.suptitle('Solutions to the Schrödinger equation for \\n '+r'$V(x)=\\delta_{\\frac{1}{2}}$')\n",
    "for k in range(6):\n",
    "    vec0 = vec1[:,k]\n",
    "    vec0 = np.concatenate(([0], vec0))\n",
    "    vec0 = np.concatenate((vec0, [0]))\n",
    "\n",
    "    N = 3/np.sqrt((1/1001)*sum(abs(vec0)**2))\n",
    "    vec0 = N*vec0\n",
    "\n",
    "    prob0 = abs(vec0)**2\n",
    "\n",
    "    vec0 = vec0 - val1[k]\n",
    "    prob0 = prob0 - val1[k]\n",
    "    psi1.plot(grid, vec0, label=k+1)\n",
    "    prob1.plot(grid, prob0, label=k+1)\n",
    "psi1.legend()\n",
    "psi1.title.set_text(r'$\\psi$')\n",
    "prob1.legend()\n",
    "prob1.title.set_text(r'$|\\psi|^2$')"
   ]
  }
 ],
 "metadata": {
  "kernelspec": {
   "display_name": ".venv",
   "language": "python",
   "name": "python3"
  },
  "language_info": {
   "codemirror_mode": {
    "name": "ipython",
    "version": 3
   },
   "file_extension": ".py",
   "mimetype": "text/x-python",
   "name": "python",
   "nbconvert_exporter": "python",
   "pygments_lexer": "ipython3",
   "version": "3.12.0"
  }
 },
 "nbformat": 4,
 "nbformat_minor": 2
}
